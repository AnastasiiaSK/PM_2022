{
 "cells": [
  {
   "cell_type": "markdown",
   "metadata": {},
   "source": [
    "# Lab 1 - Python introduction\n"
   ]
  },
  {
   "cell_type": "markdown",
   "metadata": {},
   "source": [
    "### Exercise 0 - Example\n",
    "Assign the number 31 to a new variable, q. Write an expression that raises q to the 4th power "
   ]
  },
  {
   "cell_type": "code",
   "execution_count": 118,
   "metadata": {},
   "outputs": [
    {
     "data": {
      "text/plain": [
       "923521"
      ]
     },
     "execution_count": 118,
     "metadata": {},
     "output_type": "execute_result"
    }
   ],
   "source": [
    "# Your answer here\n",
    "q = 31\n",
    "q**4"
   ]
  },
  {
   "cell_type": "markdown",
   "metadata": {},
   "source": [
    "### Exercise 1\n",
    "Create arbitrary list, tuple and dictionary and print them"
   ]
  },
  {
   "cell_type": "code",
   "execution_count": 119,
   "metadata": {},
   "outputs": [
    {
     "name": "stdout",
     "output_type": "stream",
     "text": [
      "[4, 6, 0, 5, 2, 3, 8, 0, 1, 4]\n",
      "(1, 'a', 2, 'b', 3, 'c')\n",
      "{'Anastasiia': 21, 'Andrii': 20, 'Nazarii': 15}\n"
     ]
    }
   ],
   "source": [
    "# Your answer here\n",
    "import random\n",
    "var = 10\n",
    "list = []\n",
    "for x in range(var):\n",
    "    y = random.randrange(0, 9)\n",
    "    list.append(y)\n",
    "print(list) #arbitrary list\n",
    "\n",
    "z = (1, 'a', 2, 'b', 3, 'c')\n",
    "print(z) #tuple\n",
    "\n",
    "w = {'Anastasiia': 21, 'Andrii': 20, 'Nazarii': 15,}\n",
    "print(w) #dictionary"
   ]
  },
  {
   "cell_type": "markdown",
   "metadata": {},
   "source": [
    "### Exercise 2\n",
    "Print the next elements of array s: 10th, from 10 to 20, all elements more than 0 "
   ]
  },
  {
   "cell_type": "code",
   "execution_count": 120,
   "metadata": {},
   "outputs": [
    {
     "name": "stdout",
     "output_type": "stream",
     "text": [
      "1.6052502022312303\n",
      "[ 1.6052502   1.17638246 -0.83007508  0.33329833  0.60065824  1.44930369\n",
      " -0.78856905 -0.79734194  1.58471548  1.07539476]\n",
      "[0.9407841221606524, 0.39647529378259055, 0.5878693715259775, 0.619123715871305, 1.659846879201109, 1.6052502022312303, 1.176382462173849, 0.33329833396148045, 0.6006582415948597, 1.4493036864212432, 1.5847154810531199, 1.0753947648297606, 0.3576367613740163, 0.05682155607572842, 0.14878965965522256, 0.05082346998134495, 0.0629523365564069, 0.16416249117515402, 0.7396521799949355, 0.7334388616243398, 0.8266581074623899, 0.41229765127063445, 1.0558312981552722, 0.4052955099761917, 0.2084487063151465, 1.289182679482522, 0.17397314078287704, 0.4540416556060133, 2.0409542828442757, 0.5543148002714617, 0.029693921359081804, 1.0041039908448606, 0.04684971868855896, 0.8560640566965538, 0.39722892282937494, 1.5016836108330456, 1.0934673510605861, 0.6569046456127147, 1.6888527647016047, 1.07697476157695, 1.674180379709831, 0.2273384872166147, 0.511257597672049, 0.8153965586132231, 0.6595126925161406, 0.2530079390473357, 1.1789860553897422, 0.01764262526914434, 0.10544458780450783, 0.041114147744099556, 0.45038521257030506, 0.2983559618939685, 0.9248465455815005, 1.2907799959240382, 0.2654925888513756]\n"
     ]
    }
   ],
   "source": [
    "import numpy as np\n",
    "s = np.random.normal(0,1,100)\n",
    "\n",
    "# Your answer here\n",
    "s10 = s[9] #print 10th element\n",
    "print(s10)\n",
    "\n",
    "s1020 = s[9:19] #print 10th-20th element\n",
    "print(s1020)\n",
    "\n",
    "s0 = [] #print >0 element\n",
    "for x in s:\n",
    "    if x > 0:\n",
    "        s0.append(x)\n",
    "print(s0)"
   ]
  },
  {
   "cell_type": "markdown",
   "metadata": {},
   "source": [
    "### Exercise 3\n",
    "Make a function `pow` that raised base `number` to a fixed power `power`. If `power >= 50` print message \"power is too big\" and return `-1`"
   ]
  },
  {
   "cell_type": "code",
   "execution_count": 121,
   "metadata": {},
   "outputs": [
    {
     "name": "stdout",
     "output_type": "stream",
     "text": [
      "64\n"
     ]
    }
   ],
   "source": [
    "# Your answer here\n",
    "\n",
    "def pow(number, power):\n",
    "    if power >=50:\n",
    "        print(\"power is too big\")\n",
    "        number = -1\n",
    "        return number\n",
    "    else:\n",
    "        return number**power\n",
    "\n",
    "\n",
    "number = 4\n",
    "power = 3\n",
    "print(pow(number, power)) #you can change the number/power and test the function work\n"
   ]
  },
  {
   "cell_type": "markdown",
   "metadata": {},
   "source": [
    "### Exercise 4\n",
    "Make a function `above(x,n)` which returns all elements `x > n`. By default `n = 10`. &nbsp; `x` argument is a numpy arrays"
   ]
  },
  {
   "cell_type": "code",
   "execution_count": 129,
   "metadata": {},
   "outputs": [
    {
     "name": "stdout",
     "output_type": "stream",
     "text": [
      "[-36  89  -8  23 -84  81  45  82  89  -2]\n",
      "[89, 23, 81, 45, 82, 89]\n"
     ]
    }
   ],
   "source": [
    "import numpy as np\n",
    "# Your answer here\n",
    "\n",
    "x = np.random.randint(-100, 100, 10)  #create 10 random elements x\n",
    "print(x)                              #print created 10 random elements x\n",
    "n = 10\n",
    "\n",
    "def above(x, n):\n",
    "    f = []\n",
    "    for y in x:\n",
    "        if y > n:\n",
    "            f.append(y)\n",
    "    return f\n",
    "\n",
    "print(above(x, n))\n"
   ]
  },
  {
   "cell_type": "markdown",
   "metadata": {},
   "source": [
    "### Exercise 5\n",
    "Write a function `my_ifelse(x, exp, n)` which test array `x` with expression `exp` to number `n`. For instance, `my_ifelse(x,'>=',10)` returns all elements of array `x` which greater or equal 10. `exp` can be `<`, `>`, `<=`, `>=`, `==`. If `exp` dont match these expression array `x` is retured"
   ]
  },
  {
   "cell_type": "code",
   "execution_count": 151,
   "metadata": {},
   "outputs": [
    {
     "name": "stdout",
     "output_type": "stream",
     "text": [
      "[-34  54  17  61 -70  15  -5  77 -13  41]\n",
      "[54, 17, 61, 15, 77, 41]\n"
     ]
    }
   ],
   "source": [
    "import numpy as np\n",
    "# Your answer here\n",
    "\n",
    "x = np.random.randint(-100, 100, 10)\n",
    "print(x) \n",
    "\n",
    "def my_ifelse(x, exp, n):\n",
    "    f = []\n",
    "    if exp == '=':\n",
    "        exp = '=='\n",
    "    for y in x:\n",
    "        if eval(str(y) + ' ' + exp + ' ' + str(n)):\n",
    "            f.append(y)\n",
    "    return f\n",
    "\n",
    "print(my_ifelse(x, '>=', 10))"
   ]
  },
  {
   "cell_type": "markdown",
   "metadata": {},
   "source": [
    "### Exercise 6\n",
    "Make a function called `counter` that takes a string input_string and returns a dictionary of letter counts."
   ]
  },
  {
   "cell_type": "code",
   "execution_count": 168,
   "metadata": {},
   "outputs": [
    {
     "name": "stdout",
     "output_type": "stream",
     "text": [
      "{'M': 1, 'y': 1, ' ': 4, 'n': 3, 'a': 5, 'm': 1, 'e': 2, 'i': 3, 's': 3, 'A': 1, 't': 1, 'S': 1, 'v': 1, 'c': 1, 'h': 1, 'k': 1, 'o': 1}\n"
     ]
    }
   ],
   "source": [
    "# Your answer here\n",
    "\n",
    "import string \n",
    "sentence = 'My name is Anastasiia Savchenko' #you can change sentence\n",
    "\n",
    "def counter(input_string):\n",
    "    count_letters = {}\n",
    "    for letter in input_string:\n",
    "        if letter in count_letters:\n",
    "            count_letters[letter] += 1\n",
    "        else:\n",
    "            count_letters[letter] = 1\n",
    "    return count_letters\n",
    "\n",
    "print(counter(sentence))\n"
   ]
  },
  {
   "cell_type": "markdown",
   "metadata": {},
   "source": [
    "### Exercise 7\n",
    "From the function `counter` make function `counter_sorted` with second boolean argumens `reverse` that returns sorted letter counts. Order depends of the `reverse` argument. By default `reverse = False`"
   ]
  },
  {
   "cell_type": "code",
   "execution_count": 176,
   "metadata": {},
   "outputs": [
    {
     "name": "stdout",
     "output_type": "stream",
     "text": [
      "{'M': 1, 'y': 1, 'm': 1, 'A': 1, 't': 1, 'S': 1, 'v': 1, 'c': 1, 'h': 1, 'k': 1, 'o': 1, 'e': 2, 'n': 3, 'i': 3, 's': 3, ' ': 4, 'a': 5}\n"
     ]
    }
   ],
   "source": [
    "# Your answer here\n",
    "\n",
    "import string \n",
    "sentence = 'My name is Anastasiia Savchenko' #you can change sentence\n",
    "\n",
    "def counter(input_string, reverse = False):\n",
    "    count_letters = {}\n",
    "    for letter in input_string:\n",
    "        if letter in count_letters:\n",
    "            count_letters[letter] += 1\n",
    "        else:\n",
    "            count_letters[letter] = 1\n",
    "    if reverse == False:\n",
    "        return dict(sorted(count_letters.items(), key = lambda item: item[1]))\n",
    "    elif reverse == True:\n",
    "        return dict(sorted(count_letters.items(), key = lambda item: item[1], reverse=True))\n",
    "\n",
    "print(counter(sentence))\n"
   ]
  }
 ],
 "metadata": {
  "interpreter": {
   "hash": "ea183bb76f01b1c0f19d4faefaf72022d209702e86a95c61a348be375d9bcd4f"
  },
  "kernelspec": {
   "display_name": "Python 3.9.12 ('base')",
   "language": "python",
   "name": "python3"
  },
  "language_info": {
   "codemirror_mode": {
    "name": "ipython",
    "version": 3
   },
   "file_extension": ".py",
   "mimetype": "text/x-python",
   "name": "python",
   "nbconvert_exporter": "python",
   "pygments_lexer": "ipython3",
   "version": "3.9.12"
  },
  "orig_nbformat": 2
 },
 "nbformat": 4,
 "nbformat_minor": 2
}
